{
 "cells": [
  {
   "cell_type": "code",
   "execution_count": 8,
   "metadata": {},
   "outputs": [],
   "source": [
    "import pandas as pd\n",
    "import ast"
   ]
  },
  {
   "cell_type": "code",
   "execution_count": 9,
   "metadata": {},
   "outputs": [],
   "source": [
    "df = pd.read_csv(\"transactions.csv\", delimiter=\",\")"
   ]
  },
  {
   "cell_type": "code",
   "execution_count": 10,
   "metadata": {},
   "outputs": [
    {
     "data": {
      "text/html": [
       "<div>\n",
       "<style scoped>\n",
       "    .dataframe tbody tr th:only-of-type {\n",
       "        vertical-align: middle;\n",
       "    }\n",
       "\n",
       "    .dataframe tbody tr th {\n",
       "        vertical-align: top;\n",
       "    }\n",
       "\n",
       "    .dataframe thead th {\n",
       "        text-align: right;\n",
       "    }\n",
       "</style>\n",
       "<table border=\"1\" class=\"dataframe\">\n",
       "  <thead>\n",
       "    <tr style=\"text-align: right;\">\n",
       "      <th></th>\n",
       "      <th>tx_hash</th>\n",
       "      <th>nonce</th>\n",
       "      <th>threshold</th>\n",
       "      <th>signers</th>\n",
       "    </tr>\n",
       "  </thead>\n",
       "  <tbody>\n",
       "    <tr>\n",
       "      <th>0</th>\n",
       "      <td>0x6a869cc8c824f67da7c8341743de8d62cf7387cabb80...</td>\n",
       "      <td>0</td>\n",
       "      <td>3</td>\n",
       "      <td>[0x10F16CdE93f1bC9C38a9e31C8DB0eEb89a744824, 0...</td>\n",
       "    </tr>\n",
       "    <tr>\n",
       "      <th>1</th>\n",
       "      <td>0x945d31852e6237905df66c8f0bac5b462958f8b26c85...</td>\n",
       "      <td>1</td>\n",
       "      <td>4</td>\n",
       "      <td>[0x10F16CdE93f1bC9C38a9e31C8DB0eEb89a744824, 0...</td>\n",
       "    </tr>\n",
       "    <tr>\n",
       "      <th>2</th>\n",
       "      <td>0xa154efc36bf7035465d6caf3bb01dfb24f31480329e3...</td>\n",
       "      <td>2</td>\n",
       "      <td>3</td>\n",
       "      <td>[0x10F16CdE93f1bC9C38a9e31C8DB0eEb89a744824, 0...</td>\n",
       "    </tr>\n",
       "    <tr>\n",
       "      <th>3</th>\n",
       "      <td>0xc0ae805b93ef5df51d82083a907c828813d6b339f8a5...</td>\n",
       "      <td>3</td>\n",
       "      <td>3</td>\n",
       "      <td>[0x10F16CdE93f1bC9C38a9e31C8DB0eEb89a744824, 0...</td>\n",
       "    </tr>\n",
       "    <tr>\n",
       "      <th>4</th>\n",
       "      <td>0x20e63bfc937e1c46fcd2ee0cc12961a7f756f72e8bef...</td>\n",
       "      <td>4</td>\n",
       "      <td>3</td>\n",
       "      <td>[0x9AF78003CecC2383d9D576A49c0C6b17fc34Ae34, 0...</td>\n",
       "    </tr>\n",
       "    <tr>\n",
       "      <th>...</th>\n",
       "      <td>...</td>\n",
       "      <td>...</td>\n",
       "      <td>...</td>\n",
       "      <td>...</td>\n",
       "    </tr>\n",
       "    <tr>\n",
       "      <th>1714</th>\n",
       "      <td>0xd3127f29b51c1c92cb2a4e26d038164cb615e16f9faf...</td>\n",
       "      <td>1714</td>\n",
       "      <td>4</td>\n",
       "      <td>[0x9AF78003CecC2383d9D576A49c0C6b17fc34Ae34, 0...</td>\n",
       "    </tr>\n",
       "    <tr>\n",
       "      <th>1715</th>\n",
       "      <td>0x15724a12f82430319c112b68cea672e35c5d11a38f9a...</td>\n",
       "      <td>1715</td>\n",
       "      <td>4</td>\n",
       "      <td>[0x9AF78003CecC2383d9D576A49c0C6b17fc34Ae34, 0...</td>\n",
       "    </tr>\n",
       "    <tr>\n",
       "      <th>1716</th>\n",
       "      <td>0xfa377a00729d54d167ebbc37a42f040c9237c56ade00...</td>\n",
       "      <td>1716</td>\n",
       "      <td>4</td>\n",
       "      <td>[0x9AF78003CecC2383d9D576A49c0C6b17fc34Ae34, 0...</td>\n",
       "    </tr>\n",
       "    <tr>\n",
       "      <th>1717</th>\n",
       "      <td>0x3314898dba4c3574d671688a98c6a47f1f7c72ce5a15...</td>\n",
       "      <td>1717</td>\n",
       "      <td>4</td>\n",
       "      <td>[0x9AF78003CecC2383d9D576A49c0C6b17fc34Ae34, 0...</td>\n",
       "    </tr>\n",
       "    <tr>\n",
       "      <th>1718</th>\n",
       "      <td>0x48164d3adbab78c2cb9876f6e17f88e321097fcd14ca...</td>\n",
       "      <td>1718</td>\n",
       "      <td>4</td>\n",
       "      <td>[0x9AF78003CecC2383d9D576A49c0C6b17fc34Ae34, 0...</td>\n",
       "    </tr>\n",
       "  </tbody>\n",
       "</table>\n",
       "<p>1719 rows × 4 columns</p>\n",
       "</div>"
      ],
      "text/plain": [
       "                                                tx_hash  nonce  threshold  \\\n",
       "0     0x6a869cc8c824f67da7c8341743de8d62cf7387cabb80...      0          3   \n",
       "1     0x945d31852e6237905df66c8f0bac5b462958f8b26c85...      1          4   \n",
       "2     0xa154efc36bf7035465d6caf3bb01dfb24f31480329e3...      2          3   \n",
       "3     0xc0ae805b93ef5df51d82083a907c828813d6b339f8a5...      3          3   \n",
       "4     0x20e63bfc937e1c46fcd2ee0cc12961a7f756f72e8bef...      4          3   \n",
       "...                                                 ...    ...        ...   \n",
       "1714  0xd3127f29b51c1c92cb2a4e26d038164cb615e16f9faf...   1714          4   \n",
       "1715  0x15724a12f82430319c112b68cea672e35c5d11a38f9a...   1715          4   \n",
       "1716  0xfa377a00729d54d167ebbc37a42f040c9237c56ade00...   1716          4   \n",
       "1717  0x3314898dba4c3574d671688a98c6a47f1f7c72ce5a15...   1717          4   \n",
       "1718  0x48164d3adbab78c2cb9876f6e17f88e321097fcd14ca...   1718          4   \n",
       "\n",
       "                                                signers  \n",
       "0     [0x10F16CdE93f1bC9C38a9e31C8DB0eEb89a744824, 0...  \n",
       "1     [0x10F16CdE93f1bC9C38a9e31C8DB0eEb89a744824, 0...  \n",
       "2     [0x10F16CdE93f1bC9C38a9e31C8DB0eEb89a744824, 0...  \n",
       "3     [0x10F16CdE93f1bC9C38a9e31C8DB0eEb89a744824, 0...  \n",
       "4     [0x9AF78003CecC2383d9D576A49c0C6b17fc34Ae34, 0...  \n",
       "...                                                 ...  \n",
       "1714  [0x9AF78003CecC2383d9D576A49c0C6b17fc34Ae34, 0...  \n",
       "1715  [0x9AF78003CecC2383d9D576A49c0C6b17fc34Ae34, 0...  \n",
       "1716  [0x9AF78003CecC2383d9D576A49c0C6b17fc34Ae34, 0...  \n",
       "1717  [0x9AF78003CecC2383d9D576A49c0C6b17fc34Ae34, 0...  \n",
       "1718  [0x9AF78003CecC2383d9D576A49c0C6b17fc34Ae34, 0...  \n",
       "\n",
       "[1719 rows x 4 columns]"
      ]
     },
     "execution_count": 10,
     "metadata": {},
     "output_type": "execute_result"
    }
   ],
   "source": [
    "df"
   ]
  },
  {
   "cell_type": "code",
   "execution_count": 11,
   "metadata": {},
   "outputs": [],
   "source": [
    "def convert_to_hex(signers):\n",
    "    return [hex(int(signer)) for signer in signers]\n"
   ]
  },
  {
   "cell_type": "code",
   "execution_count": 12,
   "metadata": {},
   "outputs": [
    {
     "name": "stdout",
     "output_type": "stream",
     "text": [
      "0xd83b89e261d02b0f2f9e384b44907f8d380e9af0    1713\n",
      "0xd967113224c354600b3151e27aaba53e3034f372    1709\n",
      "0x9af78003cecc2383d9d576a49c0c6b17fc34ae34    1699\n",
      "0xfa54b4085811aef6acf47d51b05fda188deae28b    1666\n",
      "0xae648f68823bc164ca3ad1f5f5dc0057d9d515ad      51\n",
      "0x10f16cde93f1bc9c38a9e31c8db0eeb89a744824      29\n",
      "0x711d01b75529aa700e821dc330a0addd2d869b0b       1\n",
      "Name: signers, dtype: int64\n"
     ]
    }
   ],
   "source": [
    "# Convert the 'signers' column from string to actual lists\n",
    "df['signers'] = df['signers'].apply(lambda x: convert_to_hex(ast.literal_eval(x)))\n",
    "\n",
    "# Expand the 'signers' list so that each signer is in a separate row\n",
    "df_expanded = df.explode('signers')\n",
    "\n",
    "# Count occurrences of each signer\n",
    "signer_counts = df_expanded['signers'].value_counts()\n",
    "\n",
    "# Display the top signing addresses as hex\n",
    "print(signer_counts)"
   ]
  },
  {
   "cell_type": "code",
   "execution_count": 19,
   "metadata": {},
   "outputs": [],
   "source": [
    "mock_b5De = pd.read_csv(\"../0x304090A823CC88a79aEEa7dB3Cc88d46Bb3Cb5De.txt\")"
   ]
  },
  {
   "cell_type": "code",
   "execution_count": 21,
   "metadata": {},
   "outputs": [
    {
     "data": {
      "text/plain": [
       "block_number    1\n",
       "tx_hash         1\n",
       "tx_hash.1       1\n",
       "data_hash       1\n",
       "nonce           1\n",
       "threshold       1\n",
       "calldata        1\n",
       "signers         1\n",
       "dtype: int64"
      ]
     },
     "execution_count": 21,
     "metadata": {},
     "output_type": "execute_result"
    }
   ],
   "source": [
    "mock_b5De"
   ]
  },
  {
   "cell_type": "code",
   "execution_count": null,
   "metadata": {},
   "outputs": [],
   "source": []
  }
 ],
 "metadata": {
  "kernelspec": {
   "display_name": "Python 3",
   "language": "python",
   "name": "python3"
  },
  "language_info": {
   "codemirror_mode": {
    "name": "ipython",
    "version": 3
   },
   "file_extension": ".py",
   "mimetype": "text/x-python",
   "name": "python",
   "nbconvert_exporter": "python",
   "pygments_lexer": "ipython3",
   "version": "3.9.6"
  }
 },
 "nbformat": 4,
 "nbformat_minor": 2
}
